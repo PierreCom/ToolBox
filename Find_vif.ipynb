{
 "cells": [
  {
   "cell_type": "markdown",
   "metadata": {},
   "source": [
    "# Finding VIF in Python:"
   ]
  },
  {
   "cell_type": "code",
   "execution_count": null,
   "metadata": {
    "collapsed": true
   },
   "outputs": [],
   "source": [
    "from statsmodels.stats.outliers_influence import variance_inflation_factor\n",
    "\n",
    "y, X = dmatrices('y ~ x1 + x2', dataset, return_type='dataframe')\n",
    "vif_df = pd.Dataframe()\n",
    "vif_df[\"vif\"] = [variance_inflation_factor(X.values, i) for i in range(X.shape[1])]\n",
    "vif_df[\"features\"] = X.columns\n",
    "\n",
    "print(vif_df)"
   ]
  },
  {
   "cell_type": "markdown",
   "metadata": {},
   "source": [
    "## Interpretation of VIF :\n",
    "\n",
    "- VIF = 1 : no correlation between that predictor and the other variables\n",
    "- VIF = 4 : Suspicious, needs to be looked into\n",
    "- VIF = 5-10 : “Houston, we have a problem.” Look into it or drop the variable."
   ]
  },
  {
   "cell_type": "code",
   "execution_count": null,
   "metadata": {
    "collapsed": true
   },
   "outputs": [],
   "source": []
  }
 ],
 "metadata": {
  "anaconda-cloud": {},
  "kernelspec": {
   "display_name": "Python [conda env:anaconda]",
   "language": "python",
   "name": "conda-env-anaconda-py"
  },
  "language_info": {
   "codemirror_mode": {
    "name": "ipython",
    "version": 3
   },
   "file_extension": ".py",
   "mimetype": "text/x-python",
   "name": "python",
   "nbconvert_exporter": "python",
   "pygments_lexer": "ipython3",
   "version": "3.5.2"
  }
 },
 "nbformat": 4,
 "nbformat_minor": 1
}
